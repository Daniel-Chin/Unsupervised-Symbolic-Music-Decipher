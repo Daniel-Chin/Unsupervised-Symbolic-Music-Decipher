{
 "cells": [
  {
   "cell_type": "code",
   "execution_count": null,
   "metadata": {},
   "outputs": [],
   "source": [
    "from typing import *\n",
    "\n",
    "import librosa\n",
    "import numpy as np\n",
    "from numpy.fft import rfft\n",
    "from numpy import pi\n",
    "from matplotlib import pyplot as plt\n",
    "from IPython.display import Audio\n",
    "import cmath\n",
    "import scipy\n",
    "from scipy.signal import stft\n",
    "\n",
    "from cache_no_hash import cache\n",
    "from blindDescend import blindDescend\n",
    "from yin import yin\n",
    "from harmonicSynth import HarmonicSynth, Harmonic\n",
    "\n",
    "TWO_PI = np.pi * 2"
   ]
  },
  {
   "cell_type": "code",
   "execution_count": null,
   "metadata": {},
   "outputs": [],
   "source": [
    "PAGE_LEN = 1024\n",
    "SR = 22050\n",
    "DTYPE = np.float32\n",
    "N_HARMONICS = 8"
   ]
  },
  {
   "cell_type": "code",
   "execution_count": null,
   "metadata": {},
   "outputs": [],
   "source": [
    "HANN = scipy.signal.get_window('hann', PAGE_LEN, True)\n",
    "IMAGINARY_LADDER = np.linspace(0, TWO_PI * 1j, PAGE_LEN)\n",
    "SPECTRUM_SIZE = PAGE_LEN // 2 + 1\n",
    "NYQUIST = SR // 2"
   ]
  },
  {
   "cell_type": "code",
   "execution_count": null,
   "metadata": {},
   "outputs": [],
   "source": [
    "def sino(freq, length):\n",
    "    return np.sin(np.arange(length) * freq * TWO_PI / SR)\n",
    "\n",
    "def playHard(data, sr=SR):\n",
    "    return Audio(data, rate = sr)\n",
    "def play(data, soft = .1, sr = SR):\n",
    "    t = np.concatenate([data, [1]])\n",
    "    length = round(soft * sr)\n",
    "    t[:length ] = np.multiply(t[:length ], np.linspace(0, 1, length))\n",
    "    t[-length:] = np.multiply(t[-length:], np.linspace(1, 0, length))\n",
    "    return playHard(t, sr)\n",
    "\n",
    "def findPeaks(energy):\n",
    "    slope = np.sign(energy[1:] - energy[:-1])\n",
    "    extrema = slope[1:] - slope[:-1]\n",
    "    return np.argpartition(\n",
    "        (extrema == -2) * energy[1:-1], - N_HARMONICS,\n",
    "    )[- N_HARMONICS:] + 1\n",
    "\n",
    "def sft(signal, freq_bin):\n",
    "    # Slow Fourier Transform\n",
    "    return np.abs(np.sum(signal * np.exp(IMAGINARY_LADDER * freq_bin))) / PAGE_LEN\n",
    "\n",
    "def refineGuess(guess, signal):\n",
    "    def loss(x):\n",
    "        if x < 0:\n",
    "            return 0\n",
    "        return - sft(signal, x)\n",
    "    freq_bin, loss_ = blindDescend(loss, .01, .4, guess)\n",
    "    return freq_bin * SR / PAGE_LEN, - loss_\n",
    "\n",
    "def widePlot(h = 3, w = 12):\n",
    "    plt.gcf().set_size_inches(w, h)\n",
    "    \n",
    "def spectrum(signal, do_wide = True, trim = 130):\n",
    "    energy = np.abs(rfft(signal * HANN))\n",
    "    X = np.linspace(0, SR / 2, len(energy))\n",
    "    plt.plot(\n",
    "        X     [:trim], \n",
    "        energy[:trim], \n",
    "    )\n",
    "    plt.xlabel('freq (Hz)')\n",
    "    if do_wide:\n",
    "        widePlot()\n",
    "\n",
    "def spectrogram(signal, **kw):\n",
    "    f, t, Zxx = stft(signal, fs=SR, **kw)\n",
    "    plt.pcolormesh(t, f, np.abs(Zxx))\n",
    "\n",
    "def concatSynth(synth, harmonics, n):\n",
    "    buffer = []\n",
    "    for i in range(n):\n",
    "        synth.eat(harmonics)\n",
    "        buffer.append(synth.mix())\n",
    "    return np.concatenate(buffer)\n",
    "\n",
    "def pitch2freq(pitch):\n",
    "    return np.exp((pitch + 36.37631656229591) * 0.0577622650466621)\n",
    "\n",
    "def freq2pitch(f):\n",
    "    return np.log(f) * 17.312340490667562 - 36.37631656229591\n",
    "\n",
    "def pagesOf(signal):\n",
    "    for i in range(0, signal.size - PAGE_LEN + 1, PAGE_LEN):\n",
    "        yield signal[i : i + PAGE_LEN]\n",
    "\n",
    "def plotUnstretchedPartials(f0, n_partials = 14, color = 'r', alpha = .3):\n",
    "    for i in range(1, n_partials + 1):\n",
    "        freq = f0 * i\n",
    "        plt.axvline(x = freq, color = color, alpha = alpha)\n"
   ]
  },
  {
   "cell_type": "code",
   "execution_count": null,
   "metadata": {},
   "outputs": [],
   "source": [
    "y, sr = librosa.load(r\"C:\\Users\\iGlop\\d\\temp\\2.wav\")\n",
    "print('sr =', sr)\n",
    "assert sr == SR"
   ]
  },
  {
   "cell_type": "code",
   "execution_count": null,
   "metadata": {},
   "outputs": [],
   "source": [
    "do = y[int(SR * .3) : int(SR * 1.2)]\n",
    "play(do)"
   ]
  },
  {
   "cell_type": "code",
   "execution_count": null,
   "metadata": {},
   "outputs": [],
   "source": [
    "do_freq = pitch2freq(60)\n",
    "print(f'{do_freq = }')\n",
    "play(sino(do_freq, SR))"
   ]
  },
  {
   "cell_type": "code",
   "execution_count": null,
   "metadata": {},
   "outputs": [],
   "source": [
    "spectrum(do[int(len(do) * .5):][:PAGE_LEN])"
   ]
  },
  {
   "cell_type": "code",
   "execution_count": null,
   "metadata": {},
   "outputs": [],
   "source": [
    "def plotSpec2():\n",
    "    trim = 3000\n",
    "    energy = np.abs(rfft(do * scipy.signal.get_window(\n",
    "        'hann', len(do), True\n",
    "    )))\n",
    "    X = np.linspace(0, SR / 2, len(energy))\n",
    "    sqe = energy ** 2\n",
    "    collate = 50\n",
    "    Y = np.zeros(len(sqe) - collate)\n",
    "    for i in range(collate):\n",
    "        Y += sqe[i : -collate + i]\n",
    "    plt.plot(\n",
    "        X[:trim], \n",
    "        Y[:trim], \n",
    "    )\n",
    "    plt.xlabel('freq (Hz)')\n",
    "    widePlot()\n",
    "    # plt.ylim(0, 1e5)\n",
    "plotSpec2()"
   ]
  },
  {
   "cell_type": "code",
   "execution_count": null,
   "metadata": {},
   "outputs": [],
   "source": [
    "LOOKUP = np.array([1, 0.17, 0.01, 0.02, 0.005, 0.005, 0.005, 0.0001]) ** 0.5\n",
    "LOOKUP"
   ]
  },
  {
   "cell_type": "code",
   "execution_count": null,
   "metadata": {},
   "outputs": [],
   "source": [
    "def timbre(freq):\n",
    "    if freq < 300:\n",
    "        return 1.0\n",
    "    if freq < 500:\n",
    "        return 1.0 - (freq - 300) / 200 * 0.6\n",
    "    if freq < 700:\n",
    "        return 0.4 - (freq - 500) / 200 * 0.3\n",
    "    return 0.1\n",
    "X = np.linspace(0, 2000, 100)\n",
    "plt.plot(X, [timbre(x) for x in X])"
   ]
  },
  {
   "cell_type": "code",
   "execution_count": null,
   "metadata": {},
   "outputs": [],
   "source": [
    "def f():\n",
    "    hS = HarmonicSynth(N_HARMONICS, SR, PAGE_LEN, np.float32, True, False)\n",
    "    amp = 1.0\n",
    "    buf = []\n",
    "    for _ in range(20):\n",
    "        harmonics = []\n",
    "        for h_i in range(N_HARMONICS):\n",
    "            try:\n",
    "                strength = LOOKUP[h_i]\n",
    "            except IndexError:\n",
    "                strength = LOOKUP[-1]\n",
    "            harmonics.append(Harmonic(do_freq * (h_i + 1), amp * strength))\n",
    "        hS.eat(harmonics)\n",
    "        buf.append(hS.mix())\n",
    "        amp *= 0.8\n",
    "    return play(np.concatenate(buf))\n",
    "f()"
   ]
  },
  {
   "cell_type": "code",
   "execution_count": null,
   "metadata": {},
   "outputs": [],
   "source": [
    "def f():\n",
    "    hS = HarmonicSynth(N_HARMONICS, SR, PAGE_LEN, np.float32, True, False)\n",
    "    amp = 1.0\n",
    "    buf = []\n",
    "    for _ in range(20):\n",
    "        harmonics = []\n",
    "        for h_i in range(N_HARMONICS):\n",
    "            freq = do_freq * (h_i + 1)\n",
    "            harmonics.append(Harmonic(freq, amp * timbre(freq)))\n",
    "        hS.eat(harmonics)\n",
    "        buf.append(hS.mix())\n",
    "        amp *= 0.8\n",
    "    return play(np.concatenate(buf))\n",
    "f()"
   ]
  },
  {
   "cell_type": "code",
   "execution_count": null,
   "metadata": {},
   "outputs": [],
   "source": [
    "from piano import keySpectrogram, spectrogramToAudio, SR as PIANO_SR"
   ]
  },
  {
   "cell_type": "code",
   "execution_count": null,
   "metadata": {},
   "outputs": [],
   "source": [
    "z = keySpectrogram(60)\n",
    "# play(z, sr=PIANO_SR)\n",
    "play(spectrogramToAudio(z), sr=PIANO_SR)"
   ]
  },
  {
   "cell_type": "code",
   "execution_count": null,
   "metadata": {},
   "outputs": [],
   "source": [
    "plt.pcolormesh(z)"
   ]
  }
 ],
 "metadata": {
  "kernelspec": {
   "display_name": "base",
   "language": "python",
   "name": "python3"
  },
  "language_info": {
   "codemirror_mode": {
    "name": "ipython",
    "version": 3
   },
   "file_extension": ".py",
   "mimetype": "text/x-python",
   "name": "python",
   "nbconvert_exporter": "python",
   "pygments_lexer": "ipython3",
   "version": "3.8.8 (default, Apr 13 2021, 15:08:03) [MSC v.1916 64 bit (AMD64)]"
  },
  "vscode": {
   "interpreter": {
    "hash": "ad2bdc8ecc057115af97d19610ffacc2b4e99fae6737bb82f5d7fb13d2f2c186"
   }
  }
 },
 "nbformat": 4,
 "nbformat_minor": 2
}
