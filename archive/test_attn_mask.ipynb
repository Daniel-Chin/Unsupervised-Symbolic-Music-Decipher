{
 "cells": [
  {
   "cell_type": "code",
   "execution_count": null,
   "metadata": {},
   "outputs": [],
   "source": [
    "import torch\n",
    "from torch.nn.modules.activation import MultiheadAttention"
   ]
  },
  {
   "cell_type": "code",
   "execution_count": null,
   "metadata": {},
   "outputs": [],
   "source": [
    "torch.no_grad().__enter__()"
   ]
  },
  {
   "cell_type": "code",
   "execution_count": null,
   "metadata": {},
   "outputs": [],
   "source": [
    "EMBED_DIM = 4\n",
    "T = 3"
   ]
  },
  {
   "cell_type": "code",
   "execution_count": null,
   "metadata": {},
   "outputs": [],
   "source": [
    "mha = MultiheadAttention(EMBED_DIM, num_heads=1, batch_first=True)"
   ]
  },
  {
   "cell_type": "code",
   "execution_count": null,
   "metadata": {},
   "outputs": [],
   "source": [
    "def f(perturb, attn):\n",
    "    q = torch.randn(1, T, EMBED_DIM)\n",
    "    k = torch.randn(1, T, EMBED_DIM)\n",
    "    v = torch.randn(1, T, EMBED_DIM)\n",
    "    s0: torch.Tensor = attn(q, k, v)\n",
    "    perturb(q, k, v)\n",
    "    s1: torch.Tensor = attn(q, k, v)\n",
    "    return (s1 - s0)[0, :, :].square().mean(dim=1)"
   ]
  },
  {
   "cell_type": "code",
   "execution_count": null,
   "metadata": {},
   "outputs": [],
   "source": [
    "def causalMask():\n",
    "    return torch.ones((T, T)).tril().log()\n",
    "\n",
    "def attnNoMask(q, k, v):\n",
    "    return mha.forward(q, k, v, need_weights=False)[0]\n",
    "\n",
    "def attnCausalMask(q, k, v):\n",
    "    return mha.forward(q, k, v, attn_mask=causalMask(), need_weights=False)[0]\n",
    "\n",
    "def attnKeyPaddingMask(q, k, v):\n",
    "    return mha.forward(q, k, v, key_padding_mask=torch.tensor([\n",
    "        0, 0, float('-inf'), \n",
    "    ]).unsqueeze(0), need_weights=False)[0]\n"
   ]
  },
  {
   "cell_type": "code",
   "execution_count": null,
   "metadata": {},
   "outputs": [],
   "source": [
    "def nop(q, k, v):\n",
    "    pass\n",
    "\n",
    "print(f(nop, attnNoMask))\n",
    "print(f(nop, attnCausalMask))\n",
    "print(f(nop, attnKeyPaddingMask))"
   ]
  },
  {
   "cell_type": "code",
   "execution_count": null,
   "metadata": {},
   "outputs": [],
   "source": [
    "def p0(q, k, v):\n",
    "    v[0, 0, :] = 0\n",
    "\n",
    "def p1(q, k, v):\n",
    "    v[0, 1, :] = 0\n",
    "\n",
    "def p2(q, k, v):\n",
    "    v[0, 2, :] = 0\n",
    "\n",
    "print(f(p0, attnNoMask))\n",
    "print(f(p0, attnKeyPaddingMask))\n",
    "print(f(p1, attnKeyPaddingMask))\n",
    "print(f(p2, attnKeyPaddingMask))"
   ]
  },
  {
   "cell_type": "code",
   "execution_count": null,
   "metadata": {},
   "outputs": [],
   "source": [
    "print(f(p0, attnCausalMask))\n",
    "print(f(p1, attnCausalMask))\n",
    "print(f(p2, attnCausalMask))"
   ]
  }
 ],
 "metadata": {
  "kernelspec": {
   "display_name": "env_neural_avh",
   "language": "python",
   "name": "python3"
  },
  "language_info": {
   "codemirror_mode": {
    "name": "ipython",
    "version": 3
   },
   "file_extension": ".py",
   "mimetype": "text/x-python",
   "name": "python",
   "nbconvert_exporter": "python",
   "pygments_lexer": "ipython3",
   "version": "3.11.4"
  }
 },
 "nbformat": 4,
 "nbformat_minor": 2
}
