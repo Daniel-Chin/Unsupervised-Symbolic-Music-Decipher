{
 "cells": [
  {
   "cell_type": "markdown",
   "metadata": {},
   "source": [
    "# Backprop thru RVQ"
   ]
  },
  {
   "cell_type": "code",
   "execution_count": 1,
   "metadata": {},
   "outputs": [
    {
     "name": "stderr",
     "output_type": "stream",
     "text": [
      "A matching Triton is not available, some optimizations will not be enabled.\n",
      "Error caught was: No module named 'triton'\n",
      "c:\\Users\\iGlop\\anaconda3\\envs\\env_musicgen\\Lib\\site-packages\\tqdm\\auto.py:21: TqdmWarning: IProgress not found. Please update jupyter and ipywidgets. See https://ipywidgets.readthedocs.io/en/stable/user_install.html\n",
      "  from .autonotebook import tqdm as notebook_tqdm\n"
     ]
    },
    {
     "name": "stdout",
     "output_type": "stream",
     "text": [
      "We have CUDA.\n",
      "gpu_name = 'NVIDIA GeForce RTX 3050 Ti Laptop GPU'\n"
     ]
    }
   ],
   "source": [
    "from typing import *\n",
    "\n",
    "import torch\n",
    "from matplotlib import pyplot as plt\n",
    "\n",
    "import audiocraft\n",
    "from audiocraft.models.encodec import HFEncodecCompressionModel\n",
    "from transformers.models.encodec.modeling_encodec import EncodecEuclideanCodebook\n",
    "\n",
    "from device import DEVICE"
   ]
  },
  {
   "cell_type": "code",
   "execution_count": 10,
   "metadata": {},
   "outputs": [
    {
     "name": "stderr",
     "output_type": "stream",
     "text": [
      "c:\\Users\\iGlop\\anaconda3\\envs\\env_musicgen\\Lib\\site-packages\\torch\\nn\\utils\\weight_norm.py:30: UserWarning: torch.nn.utils.weight_norm is deprecated in favor of torch.nn.utils.parametrizations.weight_norm.\n",
      "  warnings.warn(\"torch.nn.utils.weight_norm is deprecated in favor of torch.nn.utils.parametrizations.weight_norm.\")\n"
     ]
    }
   ],
   "source": [
    "encodec: HFEncodecCompressionModel = audiocraft.models.encodec.CompressionModel.get_pretrained(\n",
    "    'facebook/encodec_32khz', DEVICE, \n",
    ") # type: ignore"
   ]
  },
  {
   "cell_type": "code",
   "execution_count": 11,
   "metadata": {},
   "outputs": [
    {
     "data": {
      "text/plain": [
       "(transformers.models.encodec.modeling_encodec.EncodecResidualVectorQuantizer,\n",
       " 4)"
      ]
     },
     "execution_count": 11,
     "metadata": {},
     "output_type": "execute_result"
    }
   ],
   "source": [
    "rvq = encodec.model.quantizer\n",
    "type(rvq), rvq.num_quantizers"
   ]
  },
  {
   "cell_type": "code",
   "execution_count": 12,
   "metadata": {},
   "outputs": [
    {
     "data": {
      "text/plain": [
       "(transformers.models.encodec.modeling_encodec.EncodecEuclideanCodebook,\n",
       " [torch.Size([2048, 128]),\n",
       "  torch.Size([2048, 128]),\n",
       "  torch.Size([2048, 128]),\n",
       "  torch.Size([2048, 128])])"
      ]
     },
     "execution_count": 12,
     "metadata": {},
     "output_type": "execute_result"
    }
   ],
   "source": [
    "codebooks: List[EncodecEuclideanCodebook] = [x.codebook for x in rvq.layers]\n",
    "type(codebooks[0]), [x.embed.shape for x in codebooks]    # 2048 codes of 128 dims"
   ]
  },
  {
   "cell_type": "code",
   "execution_count": 22,
   "metadata": {},
   "outputs": [
    {
     "name": "stdout",
     "output_type": "stream",
     "text": [
      "RVQ codebooks norm:\n"
     ]
    },
    {
     "data": {
      "text/plain": [
       "[tensor(35.7539, device='cuda:0'),\n",
       " tensor(23.9555, device='cuda:0'),\n",
       " tensor(22.8637, device='cuda:0'),\n",
       " tensor(19.0215, device='cuda:0')]"
      ]
     },
     "execution_count": 22,
     "metadata": {},
     "output_type": "execute_result"
    }
   ],
   "source": [
    "print('RVQ codebooks norm:')\n",
    "[torch.square(x.embed).sum(dim=1).sqrt().mean() for x in codebooks]"
   ]
  }
 ],
 "metadata": {
  "kernelspec": {
   "display_name": "base",
   "language": "python",
   "name": "python3"
  },
  "language_info": {
   "codemirror_mode": {
    "name": "ipython",
    "version": 3
   },
   "file_extension": ".py",
   "mimetype": "text/x-python",
   "name": "python",
   "nbconvert_exporter": "python",
   "pygments_lexer": "ipython3",
   "version": "3.11.0"
  }
 },
 "nbformat": 4,
 "nbformat_minor": 2
}
