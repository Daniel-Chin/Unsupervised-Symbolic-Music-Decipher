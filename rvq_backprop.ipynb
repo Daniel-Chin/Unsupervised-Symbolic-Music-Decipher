{
 "cells": [
  {
   "cell_type": "markdown",
   "metadata": {},
   "source": [
    "# Backprop thru RVQ"
   ]
  },
  {
   "cell_type": "code",
   "execution_count": null,
   "metadata": {},
   "outputs": [],
   "source": [
    "from typing import *\n",
    "\n",
    "import torch\n",
    "\n",
    "import audiocraft\n",
    "from audiocraft.models.encodec import HFEncodecCompressionModel\n",
    "from transformers.models.encodec.modeling_encodec import EncodecEuclideanCodebook\n",
    "\n",
    "from device import DEVICE"
   ]
  },
  {
   "cell_type": "code",
   "execution_count": null,
   "metadata": {},
   "outputs": [],
   "source": [
    "encodec: HFEncodecCompressionModel = audiocraft.models.encodec.CompressionModel.get_pretrained(\n",
    "    'facebook/encodec_32khz', DEVICE, \n",
    ") # type: ignore"
   ]
  },
  {
   "cell_type": "code",
   "execution_count": null,
   "metadata": {},
   "outputs": [],
   "source": [
    "rvq = encodec.model.quantizer\n",
    "type(rvq), rvq.num_quantizers"
   ]
  },
  {
   "cell_type": "code",
   "execution_count": null,
   "metadata": {},
   "outputs": [],
   "source": [
    "codebooks: List[EncodecEuclideanCodebook] = [x.codebook for x in rvq.layers]\n",
    "type(codebooks[0]), [x.embed.shape for x in codebooks]    # 2048 codes of 128 dims"
   ]
  },
  {
   "cell_type": "code",
   "execution_count": null,
   "metadata": {},
   "outputs": [],
   "source": []
  }
 ],
 "metadata": {
  "kernelspec": {
   "display_name": "base",
   "language": "python",
   "name": "python3"
  },
  "language_info": {
   "codemirror_mode": {
    "name": "ipython",
    "version": 3
   },
   "file_extension": ".py",
   "mimetype": "text/x-python",
   "name": "python",
   "nbconvert_exporter": "python",
   "pygments_lexer": "ipython3",
   "version": "3.11.0"
  }
 },
 "nbformat": 4,
 "nbformat_minor": 2
}
